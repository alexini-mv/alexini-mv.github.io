{
 "cells": [
  {
   "cell_type": "code",
   "execution_count": null,
   "metadata": {},
   "outputs": [],
   "source": [
    "import numpy as np\n",
    "import pandas as pd"
   ]
  },
  {
   "cell_type": "code",
   "execution_count": null,
   "metadata": {},
   "outputs": [],
   "source": [
    "!dir"
   ]
  },
  {
   "cell_type": "code",
   "execution_count": null,
   "metadata": {},
   "outputs": [],
   "source": [
    "data = pd.read_csv(\"ReportesDiqueUnificados.csv\",encoding='latin1',sep=',')"
   ]
  },
  {
   "cell_type": "code",
   "execution_count": null,
   "metadata": {},
   "outputs": [],
   "source": [
    "quejas_0 = data[data['FOLIOQUEJA'].notnull()]"
   ]
  },
  {
   "cell_type": "code",
   "execution_count": null,
   "metadata": {},
   "outputs": [],
   "source": [
    "data.DATE_INI"
   ]
  },
  {
   "cell_type": "code",
   "execution_count": null,
   "metadata": {},
   "outputs": [],
   "source": [
    "data2 = pd.read_excel('ReportesDiqueUnificados.xlsx')"
   ]
  },
  {
   "cell_type": "code",
   "execution_count": null,
   "metadata": {},
   "outputs": [],
   "source": [
    "quejas2 = data2[data2['FOLIOQUEJA'].notnull()]"
   ]
  },
  {
   "cell_type": "code",
   "execution_count": null,
   "metadata": {
    "scrolled": true
   },
   "outputs": [],
   "source": [
    "quejas2['FOLIOQUEJA'] = quejas2['FOLIOQUEJA'].astype('int64')"
   ]
  },
  {
   "cell_type": "code",
   "execution_count": null,
   "metadata": {},
   "outputs": [],
   "source": [
    "quejas2.dtypes"
   ]
  },
  {
   "cell_type": "code",
   "execution_count": null,
   "metadata": {},
   "outputs": [],
   "source": [
    "columnas = ['SERVICE_ACCOUNT','FOLIOQUEJA','TIPO_TAREA','TIPO_PRUEBA',\n",
    " 'DATE_INI','COPE','STATUS','DESCRIPTION','NEM_CODE','RADIUS_CODE','PE_CODE','PP_CODE','SBC_CODE','NEM_DESCRIPTION','PP_DESCRIPTION','PE_DESCRIPTION',\n",
    "'SBC_DESCRIPTION','RADIUS_DESCRIPTION']"
   ]
  },
  {
   "cell_type": "code",
   "execution_count": null,
   "metadata": {},
   "outputs": [],
   "source": [
    "quejas2[columnas].to_csv('DIQUE_REPORTE_QUEJAS.csv',index=False)"
   ]
  },
  {
   "cell_type": "code",
   "execution_count": null,
   "metadata": {},
   "outputs": [],
   "source": [
    "!dir"
   ]
  },
  {
   "cell_type": "code",
   "execution_count": null,
   "metadata": {},
   "outputs": [],
   "source": [
    "quejas2['DATE_INI']"
   ]
  },
  {
   "cell_type": "code",
   "execution_count": null,
   "metadata": {},
   "outputs": [],
   "source": [
    "quejas2.count()"
   ]
  },
  {
   "cell_type": "code",
   "execution_count": null,
   "metadata": {},
   "outputs": [],
   "source": [
    "!dir"
   ]
  },
  {
   "cell_type": "code",
   "execution_count": null,
   "metadata": {},
   "outputs": [],
   "source": [
    "data3 = pd.read_csv('DIQUE_REPORTE_QUEJAS.csv', encoding='latin1')"
   ]
  },
  {
   "cell_type": "code",
   "execution_count": null,
   "metadata": {},
   "outputs": [],
   "source": [
    "data3[data3[''].isnull()]"
   ]
  },
  {
   "cell_type": "code",
   "execution_count": null,
   "metadata": {},
   "outputs": [],
   "source": [
    "data3[data3['SERVICE_ACCOUNT']==8676883011]"
   ]
  },
  {
   "cell_type": "code",
   "execution_count": null,
   "metadata": {},
   "outputs": [],
   "source": [
    "!dir"
   ]
  },
  {
   "cell_type": "markdown",
   "metadata": {},
   "source": [
    "# * Este es el bueno *"
   ]
  },
  {
   "cell_type": "code",
   "execution_count": null,
   "metadata": {},
   "outputs": [],
   "source": [
    "data4 = pd.read_csv(\"DIQUE_REPORTE_QUEJAS_2.csv\", sep='|')"
   ]
  },
  {
   "cell_type": "code",
   "execution_count": null,
   "metadata": {},
   "outputs": [],
   "source": [
    "list(data4.columns)"
   ]
  },
  {
   "cell_type": "code",
   "execution_count": null,
   "metadata": {},
   "outputs": [],
   "source": [
    "columnas2 = ['FOLIOQUEJA','TIPO_TAREA','TIPO_PRUEBA', 'CODRECEP',\n",
    " 'DATE_INI','COPE','STATUS','DESCRIPTION','NEM_CODE','RADIUS_CODE','PE_CODE','PP_CODE','SBC_CODE','NEM_DESCRIPTION','PP_DESCRIPTION','PE_DESCRIPTION',\n",
    "'SBC_DESCRIPTION','RADIUS_DESCRIPTION','LIQUIDACION','DESC_ETAPA','DISTRITO','CLAVE','EXPPBA']"
   ]
  },
  {
   "cell_type": "code",
   "execution_count": null,
   "metadata": {},
   "outputs": [],
   "source": [
    "data5 = data4[columnas2]"
   ]
  },
  {
   "cell_type": "code",
   "execution_count": null,
   "metadata": {},
   "outputs": [],
   "source": [
    "data5.to_csv('DIQUE_QUEJAS.csv',index=False)"
   ]
  },
  {
   "cell_type": "code",
   "execution_count": null,
   "metadata": {},
   "outputs": [],
   "source": [
    "columnas3 = ['TIPO_TAREA','CODRECEP','NEM_CODE','RADIUS_CODE','PE_CODE','PP_CODE','SBC_CODE','LIQUIDACION']"
   ]
  },
  {
   "cell_type": "code",
   "execution_count": null,
   "metadata": {},
   "outputs": [],
   "source": [
    "data4[columnas3].to_csv('DIQUE_QUEJAS-fragmento.csv',index=False)"
   ]
  },
  {
   "cell_type": "code",
   "execution_count": null,
   "metadata": {},
   "outputs": [],
   "source": [
    "!dir"
   ]
  },
  {
   "cell_type": "code",
   "execution_count": null,
   "metadata": {},
   "outputs": [],
   "source": [
    "datos_quejas_dique = pd.read_csv('DIQUE_QUEJAS.csv').drop_duplicates(subset='TELEFONO',keep='last')\n",
    "datos_xml_dique = pd.read_excel('02-03-2019.xls').drop_duplicates(subset='SERVICE_ACCOUNT',keep='last')\n",
    "\n",
    "dique_XML = datos_xml_dique[datos_xml_dique['SERVICE_ACCOUNT'].isin(datos_quejas_dique['TELEFONO'])]\n",
    "dique_XML.to_excel('XML_filtrados_02-03-2019.xls', index=False)"
   ]
  },
  {
   "cell_type": "markdown",
   "metadata": {},
   "source": [
    "## Convertir los XML a columnas de un DataFrame en pandas"
   ]
  },
  {
   "cell_type": "code",
   "execution_count": 2,
   "metadata": {},
   "outputs": [],
   "source": [
    "import pandas as pd\n",
    "import xmltodict\n",
    "from flatten_json import flatten\n",
    "from numba import jit, prange\n",
    "import progressbar\n",
    "import os"
   ]
  },
  {
   "cell_type": "code",
   "execution_count": 3,
   "metadata": {},
   "outputs": [],
   "source": [
    "dir_xml = os.path.join(os.getcwd(),\"dique_xml\")"
   ]
  },
  {
   "cell_type": "code",
   "execution_count": 4,
   "metadata": {},
   "outputs": [],
   "source": [
    "files = [i for i in os.listdir(dir_xml) if i.endswith('.xls')]"
   ]
  },
  {
   "cell_type": "code",
   "execution_count": 5,
   "metadata": {},
   "outputs": [],
   "source": [
    "archivo = os.path.join(dir_xml, files[0])"
   ]
  },
  {
   "cell_type": "code",
   "execution_count": 6,
   "metadata": {},
   "outputs": [],
   "source": [
    "data_dique = pd.read_excel(archivo, skiprows=2)"
   ]
  },
  {
   "cell_type": "code",
   "execution_count": 1,
   "metadata": {},
   "outputs": [
    {
     "ename": "NameError",
     "evalue": "name 'data_dique' is not defined",
     "output_type": "error",
     "traceback": [
      "\u001b[1;31m---------------------------------------------------------------------------\u001b[0m",
      "\u001b[1;31mNameError\u001b[0m                                 Traceback (most recent call last)",
      "\u001b[1;32m<ipython-input-1-3870035b658e>\u001b[0m in \u001b[0;36m<module>\u001b[1;34m()\u001b[0m\n\u001b[1;32m----> 1\u001b[1;33m \u001b[0mdata_dique\u001b[0m\u001b[1;33m\u001b[0m\u001b[0m\n\u001b[0m",
      "\u001b[1;31mNameError\u001b[0m: name 'data_dique' is not defined"
     ]
    }
   ],
   "source": [
    "data_dique"
   ]
  },
  {
   "cell_type": "code",
   "execution_count": 16,
   "metadata": {},
   "outputs": [],
   "source": [
    "@jit(parallel=True)\n",
    "def limpiar_xml(data_dique):\n",
    "    dique_xmls = pd.DataFrame()\n",
    "    bar = progressbar.ProgressBar(maxval=len(data_dique['XML']),\n",
    "                                  widgets=[progressbar.Bar('=', '[', ']'), ' ', progressbar.Percentage(), progressbar.Counter(), progressbar.CurrentTime()])\n",
    "    bar.start()\n",
    "    for i in prange(len(data_dique['XML'])):\n",
    "        salida = dict(xmltodict.parse(data_dique['XML'][i]))\n",
    "        aux0 = pd.DataFrame([flatten(salida)], index=[i])\n",
    "        dique_xmls = pd.concat([dique_xmls,aux0], sort=False)\n",
    "        bar.update(i+1)\n",
    "    dique_final = pd.concat([data_dique,dique_xmls], sort=False, axis=1)\n",
    "    bar.finish()\n",
    "    return dique_final"
   ]
  },
  {
   "cell_type": "code",
   "execution_count": 17,
   "metadata": {},
   "outputs": [
    {
     "name": "stderr",
     "output_type": "stream",
     "text": [
      "[========================================================================] 100%\n"
     ]
    }
   ],
   "source": [
    "dique_final = limpiar_xml(data_dique)"
   ]
  },
  {
   "cell_type": "code",
   "execution_count": 20,
   "metadata": {
    "scrolled": true
   },
   "outputs": [],
   "source": [
    "dique_final.rename(columns=dict_dique_nombres).to_excel('_' + files[0][:20] + '.xls', index=False)"
   ]
  },
  {
   "cell_type": "markdown",
   "metadata": {},
   "source": [
    "### Cruzar los números con las quejas generadas"
   ]
  },
  {
   "cell_type": "code",
   "execution_count": 31,
   "metadata": {},
   "outputs": [],
   "source": [
    "import pandas as pd\n",
    "\n",
    "datos_quejas_dique = pd.read_csv('DIQUE_QUEJAS.csv').drop_duplicates(subset='TELEFONO',keep='last')\n",
    "datos_xml_dique = pd.read_excel('ML_DIQUE.xls').drop_duplicates(subset='SERVICE_ACCOUNT',keep='last').rename(columns={\"SERVICE_ACCOUNT\":\"TELEFONO\"})"
   ]
  },
  {
   "cell_type": "code",
   "execution_count": 52,
   "metadata": {},
   "outputs": [],
   "source": [
    "datos_quejas_dique_xml = pd.merge(datos_quejas_dique,\n",
    "                                  datos_xml_dique,\n",
    "                                  on='TELEFONO',\n",
    "                                  how='inner' )"
   ]
  },
  {
   "cell_type": "code",
   "execution_count": 69,
   "metadata": {},
   "outputs": [],
   "source": [
    "datos_quejas_dique_xml.drop('XML', axis=1, inplace=True)"
   ]
  },
  {
   "cell_type": "code",
   "execution_count": 72,
   "metadata": {},
   "outputs": [],
   "source": [
    "datos_quejas_dique_xml.to_csv('DIQUE_XML.csv', index=False)"
   ]
  },
  {
   "cell_type": "markdown",
   "metadata": {},
   "source": [
    "### Seleccionamos las columnas que nos pueden ser útiles"
   ]
  },
  {
   "cell_type": "code",
   "execution_count": 17,
   "metadata": {},
   "outputs": [],
   "source": [
    "import pandas as pd\n",
    "\n",
    "datos = pd.read_csv('DIQUE_XML.csv')"
   ]
  },
  {
   "cell_type": "code",
   "execution_count": 23,
   "metadata": {
    "scrolled": true
   },
   "outputs": [],
   "source": [
    "lista = [\"FOLIOQUEJA\",\n",
    "\"TIPO_TAREA\",\n",
    "\"TIPO_PRUEBA\",\n",
    "\"CODRECEP\",\n",
    "\"COPE\",\n",
    "\"LIQUIDACION\",\n",
    "\"DESC_ETAPA\",\n",
    "\"nem_suppliercode\",\n",
    "\"nem_bandWifi\",\n",
    "\"nem_corrienteOptica\",\n",
    "\"nem_edoAdministrativo\",\n",
    "\"nem_edoOperativo\",\n",
    "\"nem_esVdsl\",\n",
    "\"nem_modTjta\",\n",
    "\"nem_perfil\",\n",
    "\"nem_senalRX\",\n",
    "\"nem_senalTX\",\n",
    "\"nem_severidad\",\n",
    "\"nem_tecnologia\",\n",
    "\"nem_temperatura\",\n",
    "\"nem_vcic\",\n",
    "\"nem_vlan\",\n",
    "\"nem_vlanHsi\",\n",
    "\"nem_vlanOnt\",\n",
    "\"nem_voltajeOptico\",\n",
    "\"nem_vpic\",\n",
    "\"radius_code\",\n",
    "\"radius_Activo\",\n",
    "\"radius_VEL_DOWN_USR\",\n",
    "\"radius_VEL_UP_USR\",\n",
    "\"pe_code\",\n",
    "\"sbc_code\"]"
   ]
  },
  {
   "cell_type": "code",
   "execution_count": 25,
   "metadata": {},
   "outputs": [],
   "source": [
    "datos[lista].to_csv('XML_PRUEBA.csv', index=False)"
   ]
  },
  {
   "cell_type": "code",
   "execution_count": 24,
   "metadata": {},
   "outputs": [
    {
     "data": {
      "text/html": [
       "<div>\n",
       "<style scoped>\n",
       "    .dataframe tbody tr th:only-of-type {\n",
       "        vertical-align: middle;\n",
       "    }\n",
       "\n",
       "    .dataframe tbody tr th {\n",
       "        vertical-align: top;\n",
       "    }\n",
       "\n",
       "    .dataframe thead th {\n",
       "        text-align: right;\n",
       "    }\n",
       "</style>\n",
       "<table border=\"1\" class=\"dataframe\">\n",
       "  <thead>\n",
       "    <tr style=\"text-align: right;\">\n",
       "      <th></th>\n",
       "      <th>FOLIOQUEJA</th>\n",
       "      <th>TIPO_TAREA</th>\n",
       "      <th>TIPO_PRUEBA</th>\n",
       "      <th>CODRECEP</th>\n",
       "      <th>COPE</th>\n",
       "      <th>LIQUIDACION</th>\n",
       "      <th>DESC_ETAPA</th>\n",
       "      <th>nem_suppliercode</th>\n",
       "      <th>nem_bandWifi</th>\n",
       "      <th>...</th>\n",
       "      <th>nem_vlanHsi</th>\n",
       "      <th>nem_vlanOnt</th>\n",
       "      <th>nem_voltajeOptico</th>\n",
       "      <th>nem_vpic</th>\n",
       "      <th>radius_code</th>\n",
       "      <th>radius_Activo</th>\n",
       "      <th>radius_VEL_DOWN_USR</th>\n",
       "      <th>radius_VEL_UP_USR</th>\n",
       "      <th>pe_code</th>\n",
       "      <th>sbc_code</th>\n",
       "    </tr>\n",
       "  </thead>\n",
       "  <tbody>\n",
       "    <tr>\n",
       "      <th>0</th>\n",
       "      <td>40651507</td>\n",
       "      <td>QI1LPZOD</td>\n",
       "      <td>PRUEBA DE DATOS</td>\n",
       "      <td>52PE</td>\n",
       "      <td>CTCLA</td>\n",
       "      <td>Conexión en caja distribución</td>\n",
       "      <td>PLANTA LIQUIDA</td>\n",
       "      <td>8025.0</td>\n",
       "      <td>Single Band</td>\n",
       "      <td>...</td>\n",
       "      <td>NaN</td>\n",
       "      <td>NaN</td>\n",
       "      <td>NaN</td>\n",
       "      <td>8.0</td>\n",
       "      <td>EXITO</td>\n",
       "      <td>S</td>\n",
       "      <td>10.0</td>\n",
       "      <td>1.0</td>\n",
       "      <td>NaN</td>\n",
       "      <td>NaN</td>\n",
       "    </tr>\n",
       "    <tr>\n",
       "      <th>1</th>\n",
       "      <td>40644077</td>\n",
       "      <td>QI1LPZOG</td>\n",
       "      <td>PRUEBA DE DATOS + VSI</td>\n",
       "      <td>74PEG</td>\n",
       "      <td>CTSF_</td>\n",
       "      <td>Reconstrucción Interior (bajante e interior)</td>\n",
       "      <td>PLANTA LIQUIDA</td>\n",
       "      <td>8500.0</td>\n",
       "      <td>Dual Band</td>\n",
       "      <td>...</td>\n",
       "      <td>1409.0</td>\n",
       "      <td>881.0</td>\n",
       "      <td>3.22</td>\n",
       "      <td>0.0</td>\n",
       "      <td>EXITO</td>\n",
       "      <td>S</td>\n",
       "      <td>300.0</td>\n",
       "      <td>50.0</td>\n",
       "      <td>NaN</td>\n",
       "      <td>NaN</td>\n",
       "    </tr>\n",
       "    <tr>\n",
       "      <th>2</th>\n",
       "      <td>7024765</td>\n",
       "      <td>QI1LPZOD</td>\n",
       "      <td>PRUEBA DE DATOS</td>\n",
       "      <td>52PE</td>\n",
       "      <td>CTHEM</td>\n",
       "      <td>Filtros ADSL</td>\n",
       "      <td>PLANTA LIQUIDA</td>\n",
       "      <td>8025.0</td>\n",
       "      <td>Single Band</td>\n",
       "      <td>...</td>\n",
       "      <td>NaN</td>\n",
       "      <td>NaN</td>\n",
       "      <td>NaN</td>\n",
       "      <td>8.0</td>\n",
       "      <td>NaN</td>\n",
       "      <td>NaN</td>\n",
       "      <td>NaN</td>\n",
       "      <td>NaN</td>\n",
       "      <td>NaN</td>\n",
       "      <td>NaN</td>\n",
       "    </tr>\n",
       "    <tr>\n",
       "      <th>3</th>\n",
       "      <td>17450388</td>\n",
       "      <td>QI1LPZOD</td>\n",
       "      <td>PRUEBA DE DATOS</td>\n",
       "      <td>52PE</td>\n",
       "      <td>CTTEN</td>\n",
       "      <td>Filtros ADSL</td>\n",
       "      <td>PLANTA LIQUIDA</td>\n",
       "      <td>8025.0</td>\n",
       "      <td>Single Band</td>\n",
       "      <td>...</td>\n",
       "      <td>NaN</td>\n",
       "      <td>NaN</td>\n",
       "      <td>NaN</td>\n",
       "      <td>8.0</td>\n",
       "      <td>NaN</td>\n",
       "      <td>NaN</td>\n",
       "      <td>NaN</td>\n",
       "      <td>NaN</td>\n",
       "      <td>NaN</td>\n",
       "      <td>NaN</td>\n",
       "    </tr>\n",
       "    <tr>\n",
       "      <th>4</th>\n",
       "      <td>11919297</td>\n",
       "      <td>RI10PZOD</td>\n",
       "      <td>PRUEBA ELECTRICA</td>\n",
       "      <td>11</td>\n",
       "      <td>CTCHE</td>\n",
       "      <td>Instalación exterior +2 tramos</td>\n",
       "      <td>PLANTA LIQUIDA</td>\n",
       "      <td>NaN</td>\n",
       "      <td>NaN</td>\n",
       "      <td>...</td>\n",
       "      <td>NaN</td>\n",
       "      <td>NaN</td>\n",
       "      <td>NaN</td>\n",
       "      <td>NaN</td>\n",
       "      <td>NaN</td>\n",
       "      <td>NaN</td>\n",
       "      <td>NaN</td>\n",
       "      <td>NaN</td>\n",
       "      <td>EXITO</td>\n",
       "      <td>NaN</td>\n",
       "    </tr>\n",
       "    <tr>\n",
       "      <th>5</th>\n",
       "      <td>11926345</td>\n",
       "      <td>RI1LPOED</td>\n",
       "      <td>PRUEBA DE DATOS</td>\n",
       "      <td>44TL</td>\n",
       "      <td>CTCON</td>\n",
       "      <td>Cambio de velocidad en el puerto</td>\n",
       "      <td>PLANTA LIQUIDA</td>\n",
       "      <td>8025.0</td>\n",
       "      <td>Dual Band</td>\n",
       "      <td>...</td>\n",
       "      <td>NaN</td>\n",
       "      <td>NaN</td>\n",
       "      <td>NaN</td>\n",
       "      <td>8.0</td>\n",
       "      <td>NaN</td>\n",
       "      <td>NaN</td>\n",
       "      <td>NaN</td>\n",
       "      <td>NaN</td>\n",
       "      <td>NaN</td>\n",
       "      <td>NaN</td>\n",
       "    </tr>\n",
       "    <tr>\n",
       "      <th>6</th>\n",
       "      <td>19937719</td>\n",
       "      <td>QI2LPZOD</td>\n",
       "      <td>PRUEBA DE DATOS</td>\n",
       "      <td>52PE</td>\n",
       "      <td>CTACT</td>\n",
       "      <td>MODEM ADSL</td>\n",
       "      <td>PLANTA LIQUIDA</td>\n",
       "      <td>8025.0</td>\n",
       "      <td>Single Band</td>\n",
       "      <td>...</td>\n",
       "      <td>NaN</td>\n",
       "      <td>NaN</td>\n",
       "      <td>NaN</td>\n",
       "      <td>8.0</td>\n",
       "      <td>NaN</td>\n",
       "      <td>NaN</td>\n",
       "      <td>NaN</td>\n",
       "      <td>NaN</td>\n",
       "      <td>NaN</td>\n",
       "      <td>NaN</td>\n",
       "    </tr>\n",
       "    <tr>\n",
       "      <th>7</th>\n",
       "      <td>40633056</td>\n",
       "      <td>QI1LPZOM</td>\n",
       "      <td>PRUEBA DE DATOS + VSI</td>\n",
       "      <td>74PE</td>\n",
       "      <td>CTTLH</td>\n",
       "      <td>Cambio de velocidad en el puerto</td>\n",
       "      <td>PLANTA LIQUIDA</td>\n",
       "      <td>8025.0</td>\n",
       "      <td>Dual Band</td>\n",
       "      <td>...</td>\n",
       "      <td>NaN</td>\n",
       "      <td>NaN</td>\n",
       "      <td>NaN</td>\n",
       "      <td>8.0</td>\n",
       "      <td>EXITO</td>\n",
       "      <td>S</td>\n",
       "      <td>16.0</td>\n",
       "      <td>1.0</td>\n",
       "      <td>NaN</td>\n",
       "      <td>NaN</td>\n",
       "    </tr>\n",
       "    <tr>\n",
       "      <th>8</th>\n",
       "      <td>40649472</td>\n",
       "      <td>QI1LPZOF</td>\n",
       "      <td>PRUEBA DATOS + ELECTRICA</td>\n",
       "      <td>52PF</td>\n",
       "      <td>CTMI_</td>\n",
       "      <td>MODEM óptico</td>\n",
       "      <td>PLANTA LIQUIDA</td>\n",
       "      <td>8500.0</td>\n",
       "      <td>Dual Band</td>\n",
       "      <td>...</td>\n",
       "      <td>1301.0</td>\n",
       "      <td>881.0</td>\n",
       "      <td>3.22</td>\n",
       "      <td>0.0</td>\n",
       "      <td>EXITO</td>\n",
       "      <td>S</td>\n",
       "      <td>20.0</td>\n",
       "      <td>3.0</td>\n",
       "      <td>NaN</td>\n",
       "      <td>NaN</td>\n",
       "    </tr>\n",
       "    <tr>\n",
       "      <th>9</th>\n",
       "      <td>40636785</td>\n",
       "      <td>QI1LPZOG</td>\n",
       "      <td>PRUEBA DE DATOS + VSI</td>\n",
       "      <td>74PEG</td>\n",
       "      <td>CTES_</td>\n",
       "      <td>Reconstrucción Interior (bajante e interior)</td>\n",
       "      <td>PLANTA LIQUIDA</td>\n",
       "      <td>8500.0</td>\n",
       "      <td>Dual Band</td>\n",
       "      <td>...</td>\n",
       "      <td>1303.0</td>\n",
       "      <td>881.0</td>\n",
       "      <td>3.22</td>\n",
       "      <td>0.0</td>\n",
       "      <td>EXITO</td>\n",
       "      <td>S</td>\n",
       "      <td>20.0</td>\n",
       "      <td>3.0</td>\n",
       "      <td>NaN</td>\n",
       "      <td>NaN</td>\n",
       "    </tr>\n",
       "    <tr>\n",
       "      <th>10</th>\n",
       "      <td>9211482</td>\n",
       "      <td>QI1LPZOD</td>\n",
       "      <td>PRUEBA DE DATOS</td>\n",
       "      <td>52PE</td>\n",
       "      <td>CTCTL</td>\n",
       "      <td>Conexión en caja terminal</td>\n",
       "      <td>PLANTA LIQUIDA</td>\n",
       "      <td>8025.0</td>\n",
       "      <td>Dual Band</td>\n",
       "      <td>...</td>\n",
       "      <td>NaN</td>\n",
       "      <td>NaN</td>\n",
       "      <td>NaN</td>\n",
       "      <td>8.0</td>\n",
       "      <td>NaN</td>\n",
       "      <td>NaN</td>\n",
       "      <td>NaN</td>\n",
       "      <td>NaN</td>\n",
       "      <td>NaN</td>\n",
       "      <td>NaN</td>\n",
       "    </tr>\n",
       "    <tr>\n",
       "      <th>11</th>\n",
       "      <td>9214825</td>\n",
       "      <td>RI1MPZO</td>\n",
       "      <td>PRUEBA ELECTRICA</td>\n",
       "      <td>20</td>\n",
       "      <td>CTOME</td>\n",
       "      <td>Empalme secundario</td>\n",
       "      <td>CSM VALIDA SOLUCION DE FALLA</td>\n",
       "      <td>NaN</td>\n",
       "      <td>NaN</td>\n",
       "      <td>...</td>\n",
       "      <td>NaN</td>\n",
       "      <td>NaN</td>\n",
       "      <td>NaN</td>\n",
       "      <td>NaN</td>\n",
       "      <td>NaN</td>\n",
       "      <td>NaN</td>\n",
       "      <td>NaN</td>\n",
       "      <td>NaN</td>\n",
       "      <td>EXITO</td>\n",
       "      <td>NaN</td>\n",
       "    </tr>\n",
       "    <tr>\n",
       "      <th>12</th>\n",
       "      <td>11910896</td>\n",
       "      <td>RI1LPZOD</td>\n",
       "      <td>PRUEBA DE DATOS</td>\n",
       "      <td>23</td>\n",
       "      <td>CTTAP</td>\n",
       "      <td>Instalación exterior 1-2 tramos</td>\n",
       "      <td>PLANTA LIQUIDA</td>\n",
       "      <td>8025.0</td>\n",
       "      <td>Dual Band</td>\n",
       "      <td>...</td>\n",
       "      <td>NaN</td>\n",
       "      <td>NaN</td>\n",
       "      <td>NaN</td>\n",
       "      <td>8.0</td>\n",
       "      <td>NaN</td>\n",
       "      <td>NaN</td>\n",
       "      <td>NaN</td>\n",
       "      <td>NaN</td>\n",
       "      <td>NaN</td>\n",
       "      <td>NaN</td>\n",
       "    </tr>\n",
       "    <tr>\n",
       "      <th>13</th>\n",
       "      <td>13626009</td>\n",
       "      <td>QI1LPZOS</td>\n",
       "      <td>PRUEBA DE DATOS</td>\n",
       "      <td>52PE</td>\n",
       "      <td>CTCVA</td>\n",
       "      <td>Cordón modular</td>\n",
       "      <td>PLANTA LIQUIDA</td>\n",
       "      <td>8035.0</td>\n",
       "      <td>Single Band</td>\n",
       "      <td>...</td>\n",
       "      <td>NaN</td>\n",
       "      <td>NaN</td>\n",
       "      <td>NaN</td>\n",
       "      <td>0.0</td>\n",
       "      <td>NaN</td>\n",
       "      <td>NaN</td>\n",
       "      <td>NaN</td>\n",
       "      <td>NaN</td>\n",
       "      <td>NaN</td>\n",
       "      <td>NaN</td>\n",
       "    </tr>\n",
       "    <tr>\n",
       "      <th>14</th>\n",
       "      <td>17451302</td>\n",
       "      <td>F841</td>\n",
       "      <td>NO REQUERIDA</td>\n",
       "      <td>11</td>\n",
       "      <td>CTTJS</td>\n",
       "      <td>Cable principal de fibra óptica FTTH</td>\n",
       "      <td>PLANTA LIQUIDA</td>\n",
       "      <td>NaN</td>\n",
       "      <td>NaN</td>\n",
       "      <td>...</td>\n",
       "      <td>NaN</td>\n",
       "      <td>NaN</td>\n",
       "      <td>NaN</td>\n",
       "      <td>NaN</td>\n",
       "      <td>NaN</td>\n",
       "      <td>NaN</td>\n",
       "      <td>NaN</td>\n",
       "      <td>NaN</td>\n",
       "      <td>NaN</td>\n",
       "      <td>NaN</td>\n",
       "    </tr>\n",
       "    <tr>\n",
       "      <th>15</th>\n",
       "      <td>40642011</td>\n",
       "      <td>QI1LPZOS</td>\n",
       "      <td>PRUEBA DE DATOS</td>\n",
       "      <td>52PE</td>\n",
       "      <td>CTTEX</td>\n",
       "      <td>Cambio de velocidad en el puerto</td>\n",
       "      <td>PLANTA LIQUIDA</td>\n",
       "      <td>8025.0</td>\n",
       "      <td>Dual Band</td>\n",
       "      <td>...</td>\n",
       "      <td>NaN</td>\n",
       "      <td>NaN</td>\n",
       "      <td>NaN</td>\n",
       "      <td>0.0</td>\n",
       "      <td>EXITO</td>\n",
       "      <td>S</td>\n",
       "      <td>10.0</td>\n",
       "      <td>3.0</td>\n",
       "      <td>NaN</td>\n",
       "      <td>NaN</td>\n",
       "    </tr>\n",
       "    <tr>\n",
       "      <th>16</th>\n",
       "      <td>13628219</td>\n",
       "      <td>RI2MPZO</td>\n",
       "      <td>NO REQUERIDA</td>\n",
       "      <td>20</td>\n",
       "      <td>CTPTN</td>\n",
       "      <td>Baja</td>\n",
       "      <td>CSM VALIDA SOLUCION DE FALLA</td>\n",
       "      <td>NaN</td>\n",
       "      <td>NaN</td>\n",
       "      <td>...</td>\n",
       "      <td>NaN</td>\n",
       "      <td>NaN</td>\n",
       "      <td>NaN</td>\n",
       "      <td>NaN</td>\n",
       "      <td>NaN</td>\n",
       "      <td>NaN</td>\n",
       "      <td>NaN</td>\n",
       "      <td>NaN</td>\n",
       "      <td>NaN</td>\n",
       "      <td>NaN</td>\n",
       "    </tr>\n",
       "    <tr>\n",
       "      <th>17</th>\n",
       "      <td>7023591</td>\n",
       "      <td>RI2LPZOG</td>\n",
       "      <td>PRUEBA DE DATOS + VSI</td>\n",
       "      <td>74VOG</td>\n",
       "      <td>CTHEM</td>\n",
       "      <td>MODEM óptico</td>\n",
       "      <td>PLANTA LIQUIDA</td>\n",
       "      <td>8500.0</td>\n",
       "      <td>Single Band</td>\n",
       "      <td>...</td>\n",
       "      <td>1300.0</td>\n",
       "      <td>881.0</td>\n",
       "      <td>3.34</td>\n",
       "      <td>0.0</td>\n",
       "      <td>NaN</td>\n",
       "      <td>NaN</td>\n",
       "      <td>NaN</td>\n",
       "      <td>NaN</td>\n",
       "      <td>NaN</td>\n",
       "      <td>NaN</td>\n",
       "    </tr>\n",
       "    <tr>\n",
       "      <th>18</th>\n",
       "      <td>2561986</td>\n",
       "      <td>RI10PZOD</td>\n",
       "      <td>PRUEBA ELECTRICA</td>\n",
       "      <td>11</td>\n",
       "      <td>CTZRG</td>\n",
       "      <td>Equipo ajeno</td>\n",
       "      <td>PLANTA LIQUIDA</td>\n",
       "      <td>NaN</td>\n",
       "      <td>NaN</td>\n",
       "      <td>...</td>\n",
       "      <td>NaN</td>\n",
       "      <td>NaN</td>\n",
       "      <td>NaN</td>\n",
       "      <td>NaN</td>\n",
       "      <td>NaN</td>\n",
       "      <td>NaN</td>\n",
       "      <td>NaN</td>\n",
       "      <td>NaN</td>\n",
       "      <td>ERROR</td>\n",
       "      <td>NaN</td>\n",
       "    </tr>\n",
       "    <tr>\n",
       "      <th>19</th>\n",
       "      <td>40649463</td>\n",
       "      <td>QI1LPZOF</td>\n",
       "      <td>PRUEBA DATOS + ELECTRICA</td>\n",
       "      <td>52NF</td>\n",
       "      <td>CTAZ_</td>\n",
       "      <td>MODEM óptico</td>\n",
       "      <td>PLANTA LIQUIDA</td>\n",
       "      <td>8500.0</td>\n",
       "      <td>Dual Band</td>\n",
       "      <td>...</td>\n",
       "      <td>1300.0</td>\n",
       "      <td>881.0</td>\n",
       "      <td>3.32</td>\n",
       "      <td>0.0</td>\n",
       "      <td>EXITO</td>\n",
       "      <td>S</td>\n",
       "      <td>30.0</td>\n",
       "      <td>5.0</td>\n",
       "      <td>NaN</td>\n",
       "      <td>NaN</td>\n",
       "    </tr>\n",
       "  </tbody>\n",
       "</table>\n",
       "<p>20 rows × 33 columns</p>\n",
       "</div>"
      ],
      "text/plain": [
       "   FOLIOQUEJA TIPO_TAREA               TIPO_PRUEBA CODRECEP  \\\n",
       "0    40651507   QI1LPZOD           PRUEBA DE DATOS     52PE   \n",
       "1    40644077   QI1LPZOG     PRUEBA DE DATOS + VSI    74PEG   \n",
       "2     7024765   QI1LPZOD           PRUEBA DE DATOS     52PE   \n",
       "3    17450388   QI1LPZOD           PRUEBA DE DATOS     52PE   \n",
       "4    11919297   RI10PZOD          PRUEBA ELECTRICA       11   \n",
       "5    11926345   RI1LPOED           PRUEBA DE DATOS     44TL   \n",
       "6    19937719   QI2LPZOD           PRUEBA DE DATOS     52PE   \n",
       "7    40633056   QI1LPZOM     PRUEBA DE DATOS + VSI     74PE   \n",
       "8    40649472   QI1LPZOF  PRUEBA DATOS + ELECTRICA     52PF   \n",
       "9    40636785   QI1LPZOG     PRUEBA DE DATOS + VSI    74PEG   \n",
       "10     9211482   QI1LPZOD           PRUEBA DE DATOS     52PE   \n",
       "11     9214825    RI1MPZO          PRUEBA ELECTRICA       20   \n",
       "12    11910896   RI1LPZOD           PRUEBA DE DATOS       23   \n",
       "13    13626009   QI1LPZOS           PRUEBA DE DATOS     52PE   \n",
       "14    17451302       F841              NO REQUERIDA       11   \n",
       "15    40642011   QI1LPZOS           PRUEBA DE DATOS     52PE   \n",
       "16    13628219    RI2MPZO              NO REQUERIDA       20   \n",
       "17     7023591   RI2LPZOG     PRUEBA DE DATOS + VSI    74VOG   \n",
       "18     2561986   RI10PZOD          PRUEBA ELECTRICA       11   \n",
       "19    40649463   QI1LPZOF  PRUEBA DATOS + ELECTRICA     52NF   \n",
       "\n",
       "     COPE                                   LIQUIDACION  \\\n",
       "0   CTCLA                 Conexión en caja distribución   \n",
       "1   CTSF_  Reconstrucción Interior (bajante e interior)   \n",
       "2   CTHEM                                  Filtros ADSL   \n",
       "3   CTTEN                                  Filtros ADSL   \n",
       "4   CTCHE                Instalación exterior +2 tramos   \n",
       "5   CTCON              Cambio de velocidad en el puerto   \n",
       "6   CTACT                                    MODEM ADSL   \n",
       "7   CTTLH              Cambio de velocidad en el puerto   \n",
       "8   CTMI_                                  MODEM óptico   \n",
       "9   CTES_  Reconstrucción Interior (bajante e interior)   \n",
       "10  CTCTL                     Conexión en caja terminal   \n",
       "11  CTOME                            Empalme secundario   \n",
       "12  CTTAP               Instalación exterior 1-2 tramos   \n",
       "13  CTCVA                                Cordón modular   \n",
       "14  CTTJS          Cable principal de fibra óptica FTTH   \n",
       "15  CTTEX              Cambio de velocidad en el puerto   \n",
       "16  CTPTN                                          Baja   \n",
       "17  CTHEM                                  MODEM óptico   \n",
       "18  CTZRG                                  Equipo ajeno   \n",
       "19  CTAZ_                                  MODEM óptico   \n",
       "\n",
       "                      DESC_ETAPA  nem_suppliercode nem_bandWifi   ...     \\\n",
       "0                 PLANTA LIQUIDA            8025.0  Single Band   ...      \n",
       "1                 PLANTA LIQUIDA            8500.0    Dual Band   ...      \n",
       "2                 PLANTA LIQUIDA            8025.0  Single Band   ...      \n",
       "3                 PLANTA LIQUIDA            8025.0  Single Band   ...      \n",
       "4                 PLANTA LIQUIDA               NaN          NaN   ...      \n",
       "5                 PLANTA LIQUIDA            8025.0    Dual Band   ...      \n",
       "6                 PLANTA LIQUIDA            8025.0  Single Band   ...      \n",
       "7                 PLANTA LIQUIDA            8025.0    Dual Band   ...      \n",
       "8                 PLANTA LIQUIDA            8500.0    Dual Band   ...      \n",
       "9                 PLANTA LIQUIDA            8500.0    Dual Band   ...      \n",
       "10                PLANTA LIQUIDA            8025.0    Dual Band   ...      \n",
       "11  CSM VALIDA SOLUCION DE FALLA               NaN          NaN   ...      \n",
       "12                PLANTA LIQUIDA            8025.0    Dual Band   ...      \n",
       "13                PLANTA LIQUIDA            8035.0  Single Band   ...      \n",
       "14                PLANTA LIQUIDA               NaN          NaN   ...      \n",
       "15                PLANTA LIQUIDA            8025.0    Dual Band   ...      \n",
       "16  CSM VALIDA SOLUCION DE FALLA               NaN          NaN   ...      \n",
       "17                PLANTA LIQUIDA            8500.0  Single Band   ...      \n",
       "18                PLANTA LIQUIDA               NaN          NaN   ...      \n",
       "19                PLANTA LIQUIDA            8500.0    Dual Band   ...      \n",
       "\n",
       "    nem_vlanHsi nem_vlanOnt nem_voltajeOptico nem_vpic radius_code  \\\n",
       "0           NaN         NaN               NaN      8.0       EXITO   \n",
       "1        1409.0       881.0              3.22      0.0       EXITO   \n",
       "2           NaN         NaN               NaN      8.0         NaN   \n",
       "3           NaN         NaN               NaN      8.0         NaN   \n",
       "4           NaN         NaN               NaN      NaN         NaN   \n",
       "5           NaN         NaN               NaN      8.0         NaN   \n",
       "6           NaN         NaN               NaN      8.0         NaN   \n",
       "7           NaN         NaN               NaN      8.0       EXITO   \n",
       "8        1301.0       881.0              3.22      0.0       EXITO   \n",
       "9        1303.0       881.0              3.22      0.0       EXITO   \n",
       "10          NaN         NaN               NaN      8.0         NaN   \n",
       "11          NaN         NaN               NaN      NaN         NaN   \n",
       "12          NaN         NaN               NaN      8.0         NaN   \n",
       "13          NaN         NaN               NaN      0.0         NaN   \n",
       "14          NaN         NaN               NaN      NaN         NaN   \n",
       "15          NaN         NaN               NaN      0.0       EXITO   \n",
       "16          NaN         NaN               NaN      NaN         NaN   \n",
       "17       1300.0       881.0              3.34      0.0         NaN   \n",
       "18          NaN         NaN               NaN      NaN         NaN   \n",
       "19       1300.0       881.0              3.32      0.0       EXITO   \n",
       "\n",
       "   radius_Activo  radius_VEL_DOWN_USR  radius_VEL_UP_USR  pe_code sbc_code  \n",
       "0              S                 10.0                1.0      NaN      NaN  \n",
       "1              S                300.0               50.0      NaN      NaN  \n",
       "2            NaN                  NaN                NaN      NaN      NaN  \n",
       "3            NaN                  NaN                NaN      NaN      NaN  \n",
       "4            NaN                  NaN                NaN    EXITO      NaN  \n",
       "5            NaN                  NaN                NaN      NaN      NaN  \n",
       "6            NaN                  NaN                NaN      NaN      NaN  \n",
       "7              S                 16.0                1.0      NaN      NaN  \n",
       "8              S                 20.0                3.0      NaN      NaN  \n",
       "9              S                 20.0                3.0      NaN      NaN  \n",
       "10           NaN                  NaN                NaN      NaN      NaN  \n",
       "11           NaN                  NaN                NaN    EXITO      NaN  \n",
       "12           NaN                  NaN                NaN      NaN      NaN  \n",
       "13           NaN                  NaN                NaN      NaN      NaN  \n",
       "14           NaN                  NaN                NaN      NaN      NaN  \n",
       "15             S                 10.0                3.0      NaN      NaN  \n",
       "16           NaN                  NaN                NaN      NaN      NaN  \n",
       "17           NaN                  NaN                NaN      NaN      NaN  \n",
       "18           NaN                  NaN                NaN    ERROR      NaN  \n",
       "19             S                 30.0                5.0      NaN      NaN  \n",
       "\n",
       "[20 rows x 33 columns]"
      ]
     },
     "execution_count": 24,
     "metadata": {},
     "output_type": "execute_result"
    }
   ],
   "source": [
    "datos[lista].head(20)"
   ]
  },
  {
   "cell_type": "code",
   "execution_count": null,
   "metadata": {},
   "outputs": [],
   "source": []
  }
 ],
 "metadata": {
  "kernelspec": {
   "display_name": "Python 3 (ipykernel)",
   "language": "python",
   "name": "python3"
  },
  "language_info": {
   "codemirror_mode": {
    "name": "ipython",
    "version": 3
   },
   "file_extension": ".py",
   "mimetype": "text/x-python",
   "name": "python",
   "nbconvert_exporter": "python",
   "pygments_lexer": "ipython3",
   "version": "3.10.11"
  },
  "toc": {
   "base_numbering": 1,
   "nav_menu": {},
   "number_sections": true,
   "sideBar": true,
   "skip_h1_title": false,
   "title_cell": "Table of Contents",
   "title_sidebar": "Contents",
   "toc_cell": false,
   "toc_position": {},
   "toc_section_display": true,
   "toc_window_display": false
  }
 },
 "nbformat": 4,
 "nbformat_minor": 4
}
