{
  "cells": [
    {
      "attachments": {},
      "cell_type": "markdown",
      "metadata": {
        "id": "2o2LvTnwNgdP"
      },
      "source": [
        "### Importamos las librerias necesarias"
      ]
    },
    {
      "cell_type": "code",
      "execution_count": null,
      "metadata": {
        "id": "1tfhQZySNgdU",
        "outputId": "c075a8b3-8f08-4dba-9444-9402e29eea62"
      },
      "outputs": [
        {
          "name": "stderr",
          "output_type": "stream",
          "text": [
            "C:\\Users\\mvalenca\\AppData\\Local\\Continuum\\anaconda3\\lib\\site-packages\\h5py\\__init__.py:36: FutureWarning: Conversion of the second argument of issubdtype from `float` to `np.floating` is deprecated. In future, it will be treated as `np.float64 == np.dtype(float).type`.\n",
            "  from ._conv import register_converters as _register_converters\n",
            "Using TensorFlow backend.\n"
          ]
        }
      ],
      "source": [
        "import cv2, os, shutil\n",
        "import json\n",
        "import numpy as np\n",
        "import matplotlib.pyplot as plt\n",
        "from numba import jit\n",
        "\n",
        "from watson_developer_cloud import VisualRecognitionV3\n",
        "from keras.models import Model, load_model, model_from_json\n",
        "\n",
        "\n",
        "from myutils import WeightReader, decode_netout, draw_boxes"
      ]
    },
    {
      "attachments": {},
      "cell_type": "markdown",
      "metadata": {
        "id": "IuwQmnnyNgdX"
      },
      "source": [
        "### Definimos la función que cargará la arquitectura y los pesos de la Red Neuronal"
      ]
    },
    {
      "cell_type": "code",
      "execution_count": null,
      "metadata": {
        "id": "pEq4ivXZNgdZ"
      },
      "outputs": [],
      "source": [
        "def set_neural_network(net,weigths):\n",
        "    \"\"\"Función que nos permite cargar la Red Neuronal entrenada para el reconocimiento de imágenes.\n",
        "    Los parametros que acepta son:\n",
        "    net: String con el nombre del archivo json que tiene la arquitectura de la red.\n",
        "    weigths: String con el nombre del archivo h5 que contiene los pesos de las conexiones de la red.\n",
        "    \n",
        "    La función regresa un modelo de red de Keras.\"\"\"\n",
        "    \n",
        "    with open(net, 'r') as f:            # Se carga la arquitectura de la Red.\n",
        "        model = model_from_json(f.read())\n",
        "        \n",
        "    model.load_weights(weigths)          # Se cargan los pesos de la Red ya entrenada.\n",
        "    return model"
      ]
    },
    {
      "attachments": {},
      "cell_type": "markdown",
      "metadata": {
        "id": "2sAwCxRVNgdd"
      },
      "source": [
        "##### Test function"
      ]
    },
    {
      "cell_type": "code",
      "execution_count": null,
      "metadata": {
        "id": "5qJdenqXNgdf",
        "outputId": "7a8a367f-d626-4431-f09c-f46fc9ce909d"
      },
      "outputs": [
        {
          "name": "stdout",
          "output_type": "stream",
          "text": [
            "__________________________________________________________________________________________________\n",
            "Layer (type)                    Output Shape         Param #     Connected to                     \n",
            "==================================================================================================\n",
            "input_1 (InputLayer)            (None, 416, 416, 3)  0                                            \n",
            "__________________________________________________________________________________________________\n",
            "conv_1 (Conv2D)                 (None, 416, 416, 32) 864         input_1[0][0]                    \n",
            "__________________________________________________________________________________________________\n",
            "norm_1 (BatchNormalization)     (None, 416, 416, 32) 128         conv_1[0][0]                     \n",
            "__________________________________________________________________________________________________\n",
            "leaky_re_lu_1 (LeakyReLU)       (None, 416, 416, 32) 0           norm_1[0][0]                     \n",
            "__________________________________________________________________________________________________\n",
            "max_pooling2d_1 (MaxPooling2D)  (None, 208, 208, 32) 0           leaky_re_lu_1[0][0]              \n",
            "__________________________________________________________________________________________________\n",
            "conv_2 (Conv2D)                 (None, 208, 208, 64) 18432       max_pooling2d_1[0][0]            \n",
            "__________________________________________________________________________________________________\n",
            "norm_2 (BatchNormalization)     (None, 208, 208, 64) 256         conv_2[0][0]                     \n",
            "__________________________________________________________________________________________________\n",
            "leaky_re_lu_2 (LeakyReLU)       (None, 208, 208, 64) 0           norm_2[0][0]                     \n",
            "__________________________________________________________________________________________________\n",
            "max_pooling2d_2 (MaxPooling2D)  (None, 104, 104, 64) 0           leaky_re_lu_2[0][0]              \n",
            "__________________________________________________________________________________________________\n",
            "conv_3 (Conv2D)                 (None, 104, 104, 128 73728       max_pooling2d_2[0][0]            \n",
            "__________________________________________________________________________________________________\n",
            "norm_3 (BatchNormalization)     (None, 104, 104, 128 512         conv_3[0][0]                     \n",
            "__________________________________________________________________________________________________\n",
            "leaky_re_lu_3 (LeakyReLU)       (None, 104, 104, 128 0           norm_3[0][0]                     \n",
            "__________________________________________________________________________________________________\n",
            "conv_4 (Conv2D)                 (None, 104, 104, 64) 8192        leaky_re_lu_3[0][0]              \n",
            "__________________________________________________________________________________________________\n",
            "norm_4 (BatchNormalization)     (None, 104, 104, 64) 256         conv_4[0][0]                     \n",
            "__________________________________________________________________________________________________\n",
            "leaky_re_lu_4 (LeakyReLU)       (None, 104, 104, 64) 0           norm_4[0][0]                     \n",
            "__________________________________________________________________________________________________\n",
            "conv_5 (Conv2D)                 (None, 104, 104, 128 73728       leaky_re_lu_4[0][0]              \n",
            "__________________________________________________________________________________________________\n",
            "norm_5 (BatchNormalization)     (None, 104, 104, 128 512         conv_5[0][0]                     \n",
            "__________________________________________________________________________________________________\n",
            "leaky_re_lu_5 (LeakyReLU)       (None, 104, 104, 128 0           norm_5[0][0]                     \n",
            "__________________________________________________________________________________________________\n",
            "max_pooling2d_3 (MaxPooling2D)  (None, 52, 52, 128)  0           leaky_re_lu_5[0][0]              \n",
            "__________________________________________________________________________________________________\n",
            "conv_6 (Conv2D)                 (None, 52, 52, 256)  294912      max_pooling2d_3[0][0]            \n",
            "__________________________________________________________________________________________________\n",
            "norm_6 (BatchNormalization)     (None, 52, 52, 256)  1024        conv_6[0][0]                     \n",
            "__________________________________________________________________________________________________\n",
            "leaky_re_lu_6 (LeakyReLU)       (None, 52, 52, 256)  0           norm_6[0][0]                     \n",
            "__________________________________________________________________________________________________\n",
            "conv_7 (Conv2D)                 (None, 52, 52, 128)  32768       leaky_re_lu_6[0][0]              \n",
            "__________________________________________________________________________________________________\n",
            "norm_7 (BatchNormalization)     (None, 52, 52, 128)  512         conv_7[0][0]                     \n",
            "__________________________________________________________________________________________________\n",
            "leaky_re_lu_7 (LeakyReLU)       (None, 52, 52, 128)  0           norm_7[0][0]                     \n",
            "__________________________________________________________________________________________________\n",
            "conv_8 (Conv2D)                 (None, 52, 52, 256)  294912      leaky_re_lu_7[0][0]              \n",
            "__________________________________________________________________________________________________\n",
            "norm_8 (BatchNormalization)     (None, 52, 52, 256)  1024        conv_8[0][0]                     \n",
            "__________________________________________________________________________________________________\n",
            "leaky_re_lu_8 (LeakyReLU)       (None, 52, 52, 256)  0           norm_8[0][0]                     \n",
            "__________________________________________________________________________________________________\n",
            "max_pooling2d_4 (MaxPooling2D)  (None, 26, 26, 256)  0           leaky_re_lu_8[0][0]              \n",
            "__________________________________________________________________________________________________\n",
            "conv_9 (Conv2D)                 (None, 26, 26, 512)  1179648     max_pooling2d_4[0][0]            \n",
            "__________________________________________________________________________________________________\n",
            "norm_9 (BatchNormalization)     (None, 26, 26, 512)  2048        conv_9[0][0]                     \n",
            "__________________________________________________________________________________________________\n",
            "leaky_re_lu_9 (LeakyReLU)       (None, 26, 26, 512)  0           norm_9[0][0]                     \n",
            "__________________________________________________________________________________________________\n",
            "conv_10 (Conv2D)                (None, 26, 26, 256)  131072      leaky_re_lu_9[0][0]              \n",
            "__________________________________________________________________________________________________\n",
            "norm_10 (BatchNormalization)    (None, 26, 26, 256)  1024        conv_10[0][0]                    \n",
            "__________________________________________________________________________________________________\n",
            "leaky_re_lu_10 (LeakyReLU)      (None, 26, 26, 256)  0           norm_10[0][0]                    \n",
            "__________________________________________________________________________________________________\n",
            "conv_11 (Conv2D)                (None, 26, 26, 512)  1179648     leaky_re_lu_10[0][0]             \n",
            "__________________________________________________________________________________________________\n",
            "norm_11 (BatchNormalization)    (None, 26, 26, 512)  2048        conv_11[0][0]                    \n",
            "__________________________________________________________________________________________________\n",
            "leaky_re_lu_11 (LeakyReLU)      (None, 26, 26, 512)  0           norm_11[0][0]                    \n",
            "__________________________________________________________________________________________________\n",
            "conv_12 (Conv2D)                (None, 26, 26, 256)  131072      leaky_re_lu_11[0][0]             \n",
            "__________________________________________________________________________________________________\n",
            "norm_12 (BatchNormalization)    (None, 26, 26, 256)  1024        conv_12[0][0]                    \n",
            "__________________________________________________________________________________________________\n",
            "leaky_re_lu_12 (LeakyReLU)      (None, 26, 26, 256)  0           norm_12[0][0]                    \n",
            "__________________________________________________________________________________________________\n",
            "conv_13 (Conv2D)                (None, 26, 26, 512)  1179648     leaky_re_lu_12[0][0]             \n",
            "__________________________________________________________________________________________________\n",
            "norm_13 (BatchNormalization)    (None, 26, 26, 512)  2048        conv_13[0][0]                    \n",
            "__________________________________________________________________________________________________\n",
            "leaky_re_lu_13 (LeakyReLU)      (None, 26, 26, 512)  0           norm_13[0][0]                    \n",
            "__________________________________________________________________________________________________\n",
            "max_pooling2d_5 (MaxPooling2D)  (None, 13, 13, 512)  0           leaky_re_lu_13[0][0]             \n",
            "__________________________________________________________________________________________________\n",
            "conv_14 (Conv2D)                (None, 13, 13, 1024) 4718592     max_pooling2d_5[0][0]            \n",
            "__________________________________________________________________________________________________\n",
            "norm_14 (BatchNormalization)    (None, 13, 13, 1024) 4096        conv_14[0][0]                    \n",
            "__________________________________________________________________________________________________\n",
            "leaky_re_lu_14 (LeakyReLU)      (None, 13, 13, 1024) 0           norm_14[0][0]                    \n",
            "__________________________________________________________________________________________________\n",
            "conv_15 (Conv2D)                (None, 13, 13, 512)  524288      leaky_re_lu_14[0][0]             \n",
            "__________________________________________________________________________________________________\n",
            "norm_15 (BatchNormalization)    (None, 13, 13, 512)  2048        conv_15[0][0]                    \n",
            "__________________________________________________________________________________________________\n",
            "leaky_re_lu_15 (LeakyReLU)      (None, 13, 13, 512)  0           norm_15[0][0]                    \n",
            "__________________________________________________________________________________________________\n",
            "conv_16 (Conv2D)                (None, 13, 13, 1024) 4718592     leaky_re_lu_15[0][0]             \n",
            "__________________________________________________________________________________________________\n",
            "norm_16 (BatchNormalization)    (None, 13, 13, 1024) 4096        conv_16[0][0]                    \n",
            "__________________________________________________________________________________________________\n",
            "leaky_re_lu_16 (LeakyReLU)      (None, 13, 13, 1024) 0           norm_16[0][0]                    \n",
            "__________________________________________________________________________________________________\n",
            "conv_17 (Conv2D)                (None, 13, 13, 512)  524288      leaky_re_lu_16[0][0]             \n",
            "__________________________________________________________________________________________________\n",
            "norm_17 (BatchNormalization)    (None, 13, 13, 512)  2048        conv_17[0][0]                    \n",
            "__________________________________________________________________________________________________\n",
            "leaky_re_lu_17 (LeakyReLU)      (None, 13, 13, 512)  0           norm_17[0][0]                    \n",
            "__________________________________________________________________________________________________\n",
            "conv_18 (Conv2D)                (None, 13, 13, 1024) 4718592     leaky_re_lu_17[0][0]             \n",
            "__________________________________________________________________________________________________\n",
            "norm_18 (BatchNormalization)    (None, 13, 13, 1024) 4096        conv_18[0][0]                    \n",
            "__________________________________________________________________________________________________\n",
            "leaky_re_lu_18 (LeakyReLU)      (None, 13, 13, 1024) 0           norm_18[0][0]                    \n",
            "__________________________________________________________________________________________________\n",
            "conv_19 (Conv2D)                (None, 13, 13, 1024) 9437184     leaky_re_lu_18[0][0]             \n",
            "__________________________________________________________________________________________________\n",
            "norm_19 (BatchNormalization)    (None, 13, 13, 1024) 4096        conv_19[0][0]                    \n",
            "__________________________________________________________________________________________________\n",
            "conv_21 (Conv2D)                (None, 26, 26, 64)   32768       leaky_re_lu_13[0][0]             \n",
            "__________________________________________________________________________________________________\n",
            "leaky_re_lu_19 (LeakyReLU)      (None, 13, 13, 1024) 0           norm_19[0][0]                    \n",
            "__________________________________________________________________________________________________\n",
            "norm_21 (BatchNormalization)    (None, 26, 26, 64)   256         conv_21[0][0]                    \n",
            "__________________________________________________________________________________________________\n",
            "conv_20 (Conv2D)                (None, 13, 13, 1024) 9437184     leaky_re_lu_19[0][0]             \n",
            "__________________________________________________________________________________________________\n",
            "leaky_re_lu_21 (LeakyReLU)      (None, 26, 26, 64)   0           norm_21[0][0]                    \n",
            "__________________________________________________________________________________________________\n",
            "norm_20 (BatchNormalization)    (None, 13, 13, 1024) 4096        conv_20[0][0]                    \n",
            "__________________________________________________________________________________________________\n",
            "lambda_1 (Lambda)               (None, 13, 13, 256)  0           leaky_re_lu_21[0][0]             \n",
            "__________________________________________________________________________________________________\n",
            "leaky_re_lu_20 (LeakyReLU)      (None, 13, 13, 1024) 0           norm_20[0][0]                    \n",
            "__________________________________________________________________________________________________\n",
            "concatenate_1 (Concatenate)     (None, 13, 13, 1280) 0           lambda_1[0][0]                   \n",
            "                                                                 leaky_re_lu_20[0][0]             \n",
            "__________________________________________________________________________________________________\n",
            "conv_22 (Conv2D)                (None, 13, 13, 1024) 11796480    concatenate_1[0][0]              \n",
            "__________________________________________________________________________________________________\n",
            "norm_22 (BatchNormalization)    (None, 13, 13, 1024) 4096        conv_22[0][0]                    \n",
            "__________________________________________________________________________________________________\n",
            "leaky_re_lu_22 (LeakyReLU)      (None, 13, 13, 1024) 0           norm_22[0][0]                    \n",
            "__________________________________________________________________________________________________\n",
            "conv_23 (Conv2D)                (None, 13, 13, 65)   66625       leaky_re_lu_22[0][0]             \n",
            "__________________________________________________________________________________________________\n",
            "reshape_1 (Reshape)             (None, 13, 13, 5, 13 0           conv_23[0][0]                    \n",
            "__________________________________________________________________________________________________\n",
            "input_2 (InputLayer)            (None, 1, 1, 1, 50,  0                                            \n",
            "__________________________________________________________________________________________________\n",
            "lambda_2 (Lambda)               (None, 13, 13, 5, 13 0           reshape_1[0][0]                  \n",
            "                                                                 input_2[0][0]                    \n",
            "==================================================================================================\n",
            "Total params: 50,614,561\n",
            "Trainable params: 66,625\n",
            "Non-trainable params: 50,547,936\n",
            "__________________________________________________________________________________________________\n"
          ]
        }
      ],
      "source": [
        "network = \"network_objetos_6.json\"\n",
        "weigths = \"weigth_objetos_6.h5\"\n",
        "model = set_neural_network(network, weigths)\n",
        "model.summary()"
      ]
    },
    {
      "attachments": {},
      "cell_type": "markdown",
      "metadata": {
        "id": "7Odb4J7jNgdh"
      },
      "source": [
        "### Definimos función de Detección de objetos en una fotografía"
      ]
    },
    {
      "cell_type": "code",
      "execution_count": null,
      "metadata": {
        "id": "qLwfPuMeNgdh"
      },
      "outputs": [],
      "source": [
        "def object_detection(foto):\n",
        "    \"\"\"Función que nos permite reconocer los objetos que contienen cada una de las fotografías.\n",
        "    Los parámetros de entrada son:\n",
        "    foto: String con el nombre de la imagen a analizar.\n",
        "    \n",
        "    El modelo regresa un objeto boxes que contiene la información de los objetos detectados.\"\"\"\n",
        "    image = cv2.imread(foto)\n",
        "    dummy_array = np.zeros((1,1,1,1,TRUE_BOX_BUFFER,4))\n",
        "\n",
        "    input_image = cv2.resize(image, (416, 416))\n",
        "    input_image = input_image / 255.\n",
        "    input_image = input_image[:,:,::-1]\n",
        "    input_image = np.expand_dims(input_image, 0)\n",
        "\n",
        "    netout = model.predict([input_image, dummy_array])\n",
        "\n",
        "    boxes = decode_netout(netout[0], \n",
        "                          obj_threshold=0.25, \n",
        "                          nms_threshold=NMS_THRESHOLD, \n",
        "                          anchors=ANCHORS, \n",
        "                          nb_class=CLASS)\n",
        "    return boxes"
      ]
    },
    {
      "attachments": {},
      "cell_type": "markdown",
      "metadata": {
        "id": "6w2m2tfHNgdl"
      },
      "source": [
        "##### Test function"
      ]
    },
    {
      "cell_type": "code",
      "execution_count": null,
      "metadata": {
        "id": "qZHGX2mpNgdn"
      },
      "outputs": [],
      "source": [
        "LABELS = ['DIT','ROSETA','MICROFILTRO','DIT_ABIERTO','ENTORCHE','MODEM','ROSETA_VSI','ROSETA_OPTICA']            # Se establecen las clases que se quieren detectar.\n",
        "\n",
        "IMAGE_H, IMAGE_W = 416, 416\n",
        "GRID_H,  GRID_W  = 13 , 13\n",
        "BOX              = 5\n",
        "CLASS            = len(LABELS)\n",
        "CLASS_WEIGHTS    = np.ones(CLASS, dtype='float32')\n",
        "OBJ_THRESHOLD    = 0.7   #0.5\n",
        "NMS_THRESHOLD    = 0.3   #0.45\n",
        "ANCHORS          = [0.57273, 0.677385, 1.87446, 2.06253, 3.33843, 5.47434, 7.88282, 3.52778, 9.77052, 9.16828]\n",
        "\n",
        "NO_OBJECT_SCALE  = 1.0\n",
        "OBJECT_SCALE     = 5.0\n",
        "COORD_SCALE      = 1.0\n",
        "CLASS_SCALE      = 1.0\n",
        "\n",
        "BATCH_SIZE       = 16\n",
        "WARM_UP_BATCHES  = 0\n",
        "TRUE_BOX_BUFFER  = 50\n",
        "\n",
        "delta = 25"
      ]
    },
    {
      "cell_type": "code",
      "execution_count": null,
      "metadata": {
        "id": "atm3UHLeNgdp"
      },
      "outputs": [],
      "source": [
        "boxes = object_detection('3701260-1259_1-copia.jpg')"
      ]
    },
    {
      "cell_type": "code",
      "execution_count": null,
      "metadata": {
        "id": "NYbRH3TkNgdr",
        "outputId": "658857e7-cbcb-4c6e-8fde-f28367baabbf"
      },
      "outputs": [
        {
          "data": {
            "text/plain": [
              "['ROSETA_OPTICA']"
            ]
          },
          "execution_count": 125,
          "metadata": {},
          "output_type": "execute_result"
        }
      ],
      "source": [
        "[LABELS[box.get_label()] for box in boxes]"
      ]
    },
    {
      "cell_type": "code",
      "execution_count": null,
      "metadata": {
        "id": "IEzImOrpNgdt",
        "outputId": "c1104fdc-8826-4b83-8ee4-9a1274e6c3da"
      },
      "outputs": [
        {
          "data": {
            "image/png": "[encoded data removed]",
            "text/plain": [
              "<Figure size 720x720 with 1 Axes>"
            ]
          },
          "metadata": {},
          "output_type": "display_data"
        }
      ],
      "source": [
        "image = cv2.imread('3701260-1259_1-copia.jpg')\n",
        "image = draw_boxes(image, boxes, labels=LABELS)\n",
        "plt.figure(figsize=(10,10))\n",
        "plt.imshow(image[:,:,::-1]); plt.show()"
      ]
    },
    {
      "attachments": {},
      "cell_type": "markdown",
      "metadata": {
        "id": "KNWuAjP5Ngdu"
      },
      "source": [
        "### Definimos la función de segmentación"
      ]
    },
    {
      "cell_type": "code",
      "execution_count": null,
      "metadata": {
        "id": "LfZeGmn6Ngdv"
      },
      "outputs": [],
      "source": [
        "def object_segmentation(foto,directorio,boxes):\n",
        "    \"\"\"Función que segmenta cada uno de los objetos detectados en la fotografía por la función object_detection.\n",
        "    Los parámetros de entrada que se requieren son:\n",
        "    foto: String con el nombre de la fotografía analizada.\n",
        "    directorio: String con el nombre del directorio donde guardarán las imagenes segmentadas.\n",
        "    boxes: Objecto boxes resultado del análisis realizado a la fotografía por la función object_detection.\n",
        "    \n",
        "    No regresa nada, pero crean en la carpeta 'directorio' con las imágenes temporales segmentadas de los objetos a evaluar.\"\"\"\n",
        "        \n",
        "    image = cv2.imread(foto)\n",
        "    image_h, image_w, _ = image.shape\n",
        "\n",
        "    try:\n",
        "        os.stat(directorio)\n",
        "        shutil.rmtree(directorio)\n",
        "        os.mkdir(directorio)\n",
        "    except:\n",
        "        os.mkdir(directorio)\n",
        "\n",
        "    for box in boxes:\n",
        "        xmin = max(0, int(box.xmin * image_w) - delta)\n",
        "        ymin = max(0, int(box.ymin * image_h) - delta)\n",
        "        xmax = min(image_w, int(box.xmax * image_w) + delta)\n",
        "        ymax = min(image_h, int(box.ymax * image_h) + delta)\n",
        "        \n",
        "        crop = image[ymin:ymax, xmin:xmax]\n",
        "\n",
        "        outfile = directorio + LABELS[box.get_label()] + '_' + str(boxes.index(box)) + '.jpg'\n",
        "        cv2.imwrite(outfile, crop)"
      ]
    },
    {
      "attachments": {},
      "cell_type": "markdown",
      "metadata": {
        "id": "3JkYn1cmNgdw"
      },
      "source": [
        "##### Test function"
      ]
    },
    {
      "cell_type": "code",
      "execution_count": null,
      "metadata": {
        "id": "f_IlxmjJNgdx"
      },
      "outputs": [],
      "source": [
        "directorio = 'img_seg/'\n",
        "object_segmentation('3701260-1259_1-copia.jpg',directorio,boxes)"
      ]
    },
    {
      "attachments": {},
      "cell_type": "markdown",
      "metadata": {
        "id": "VuvAsF5VNgdy"
      },
      "source": [
        "### Función para enlistar los objetos detectados en la imagen dependiendo de la tecnología"
      ]
    },
    {
      "cell_type": "code",
      "execution_count": null,
      "metadata": {
        "id": "Jcb5x2MlNgdz"
      },
      "outputs": [],
      "source": [
        "def lista_objetos_detectados(directorio, tecnologia = 'cobre'):\n",
        "    \"\"\" Función que enlista los objetos detectados en la fotografía y segmentados en 'directorio'.\n",
        "    Los parámetros que acepta son:\n",
        "    directorio: String que tiene el nombre del directorio donde se guardan las imagenes segmentadas.\n",
        "    tecnología: String que indica la tecnología que se está analizando. Por default está definida con el valor 'cobre', \n",
        "                pero acepta el valor 'fibra'.\n",
        "                \n",
        "    Regresa: En primera posición una lista con los objetos detectados y segmentados. \n",
        "    En segundo lugar, un diccionario con keys\n",
        "    todos los elementos considerados por tecnología, y values un valor booleano dependiendo si se detecto o no el objeto. \n",
        "    En tercer lugar, la lista de los nombres de las imágenes segmentadas en 'directorio'.\"\"\"\n",
        "    \n",
        "    lista_imagenes = next(os.walk(directorio))[2]\n",
        "    \n",
        "    if tecnologia == 'cobre':\n",
        "        \n",
        "        items_dic = {'DIT': False,\n",
        "                     'ROSETA_MARFIL':False,\n",
        "                     'ROSETA_GRIS': False,\n",
        "                     'MICROFILTRO': False,\n",
        "                     'DIT_ABIERTO': False,\n",
        "                     'ENTORCHE':False}\n",
        "        \n",
        "    elif tecnologia == 'fibra':\n",
        "        \n",
        "        items_dic = {'ROSETA_OPTICA': False,\n",
        "                     'ROSETA_VSI': False}\n",
        "    else:\n",
        "        raise ValueError(\"La tecnología sólo puede ser 'cobre' o 'fibra'.\")\n",
        "        \n",
        "    for item in items_dic.keys():\n",
        "        for i, items in enumerate(lista_imagenes):\n",
        "            if item in items:\n",
        "                items_dic[item] = True\n",
        "                \n",
        "    lista_objetos = [items[0] for items in items_dic.items() if items[1]]\n",
        "        \n",
        "    return lista_objetos, items_dic, lista_imagenes"
      ]
    },
    {
      "attachments": {},
      "cell_type": "markdown",
      "metadata": {
        "id": "EBPzrl90Ngd0"
      },
      "source": [
        "##### Test function"
      ]
    },
    {
      "cell_type": "code",
      "execution_count": null,
      "metadata": {
        "id": "SMW11ik7Ngd1",
        "outputId": "0c1f173f-1345-47e3-a732-7abfc6eda565"
      },
      "outputs": [
        {
          "name": "stdout",
          "output_type": "stream",
          "text": [
            "<class 'list'> ['ROSETA_OPTICA']\n",
            "<class 'dict'> {'ROSETA_OPTICA': True, 'ROSETA_VSI': False}\n",
            "<class 'list'> ['ROSETA_OPTICA_0.jpg']\n"
          ]
        }
      ],
      "source": [
        "test_a, test_b, test_c = lista_objetos_detectados(directorio, tecnologia = 'fibra')\n",
        "\n",
        "print(type(test_a),test_a)\n",
        "print(type(test_b),test_b)\n",
        "print(type(test_c),test_c)"
      ]
    },
    {
      "attachments": {},
      "cell_type": "markdown",
      "metadata": {
        "id": "lUqay2YLNgd2"
      },
      "source": [
        "### Credenciales de IBM Visual Recognition"
      ]
    },
    {
      "cell_type": "code",
      "execution_count": null,
      "metadata": {
        "id": "50r8slttNgd3"
      },
      "outputs": [],
      "source": [
        "visual_recognition = VisualRecognitionV3(\n",
        "    'VERSION',\n",
        "    iam_apikey=\"API_KEY\")"
      ]
    },
    {
      "attachments": {},
      "cell_type": "markdown",
      "metadata": {
        "id": "gj-PdCrTNgd4"
      },
      "source": [
        "### Funciones para evaluar la instalación de cobre"
      ]
    },
    {
      "cell_type": "code",
      "execution_count": null,
      "metadata": {
        "id": "KpQOHkucNgd5"
      },
      "outputs": [],
      "source": [
        "def evaluacion_dit_sin_fijar(directorio, file, confianza = '0.7'):\n",
        "    \"\"\" Función que llama al modelo de IBM Visual Recognition para evaluar al DIT FIJO.\n",
        "    Los parametros que acepta son:\n",
        "    directorio(string): Nombre del directorio donde están las imágenes segmentadas.\n",
        "    file(string): Nombre de la imagen segmentada que se analizará.\n",
        "    confianza(string): Valor de confianza umbral para el modelo de IBM Visual Recognition. Por default tiene de una confianza de 0.7.\n",
        "    \n",
        "    Regresa: un string con la clasificación de la imagen, respuesta del modelo en Visual Recognition.\"\"\"\n",
        "    \n",
        "    with open(directorio + file, 'rb') as images_file:\n",
        "        clases = visual_recognition.classify(images_file,\n",
        "                                             threshold = confianza,\n",
        "                                             classifier_ids = 'DevxDitxOkxSinxFijar_1104163376'\n",
        "                                            ).get_result()\n",
        "    top_class = clases['images'][0]['classifiers'][0]['classes'][0]['class'].upper()  \n",
        "    \n",
        "    return top_class\n",
        "    \n",
        "def evaluacion_roseta_sin_fijar(directorio, file, confianza = '0.7'):\n",
        "    \"\"\" Función que llama al modelo de IBM Visual Recognition para evaluar a la ROSETA FIJA.\n",
        "    Los parametros que acepta son:\n",
        "    directorio(string): Nombre del directorio donde están las imágenes segmentadas.\n",
        "    file(string): Nombre de la imagen segmentada que se analizará.\n",
        "    confianza(string): Valor de confianza umbral para el modelo de IBM Visual Recognition. Por default tiene de una confianza de 0.7.\n",
        "    \n",
        "    Regresa: un string con la clasificación de la imagen, respuesta del modelo en Visual Recognition.\"\"\"\n",
        "\n",
        "    with open(directorio + file, 'rb') as images_file:\n",
        "        clases = visual_recognition.classify(images_file,\n",
        "                                             threshold = confianza,\n",
        "                                             classifier_ids = 'DevxDitxOkxSinxFijar_1104163376'\n",
        "                                            ).get_result() #CAMBIAR AQUÍ POR EL MODELO DE LA ROSETA\n",
        "                \n",
        "    top_class = clases['images'][0]['classifiers'][0]['classes'][0]['class'].upper()\n",
        "    \n",
        "    return top_class\n",
        "    \n",
        "def evaluacion_dit_abierto(directorio, file, confianza = '0.7'):\n",
        "    \"\"\" Función que llama al modelo de IBM Visual Recognition para evaluar las conexiones internas del DIT ABIERTO.\n",
        "    Los parametros que acepta son:\n",
        "    directorio(string): Nombre del directorio donde están las imágenes segmentadas.\n",
        "    file(string): Nombre de la imagen segmentada que se analizará.\n",
        "    confianza(string): Valor de confianza umbral para el modelo de IBM Visual Recognition. Por default tiene de una confianza de 0.7.\n",
        "    \n",
        "    Regresa: un string con la clasificación de la imagen, respuesta del modelo en Visual Recognition.\"\"\"\n",
        "\n",
        "    with open(directorio + file, 'rb') as images_file:\n",
        "        clases = visual_recognition.classify(images_file,\n",
        "                                             threshold = confianza,\n",
        "                                             classifier_ids = 'DevxDitxOkxSinxFijar_1104163376'\n",
        "                                            ).get_result() #CAMBIAR AQUÍ POR EL MODELO DEL DIT ABIERTO\n",
        "                \n",
        "    top_class = clases['images'][0]['classifiers'][0]['classes'][0]['class'].upper()\n",
        "    \n",
        "    return top_class"
      ]
    },
    {
      "attachments": {},
      "cell_type": "markdown",
      "metadata": {
        "id": "8wzLFkNVNgd5"
      },
      "source": [
        "##### Test function"
      ]
    },
    {
      "cell_type": "code",
      "execution_count": null,
      "metadata": {
        "id": "xkeqIR9aNgd6",
        "outputId": "12c21951-1528-4cc4-de0c-cdc6160b3544"
      },
      "outputs": [
        {
          "ename": "IndexError",
          "evalue": "list index out of range",
          "output_type": "error",
          "traceback": [
            "\u001b[1;31m---------------------------------------------------------------------------\u001b[0m",
            "\u001b[1;31mIndexError\u001b[0m                                Traceback (most recent call last)",
            "\u001b[1;32m<ipython-input-174-3b90a057e574>\u001b[0m in \u001b[0;36m<module>\u001b[1;34m()\u001b[0m\n\u001b[1;32m----> 1\u001b[1;33m \u001b[0mevaluacion_roseta_sin_fijar\u001b[0m\u001b[1;33m(\u001b[0m\u001b[0mdirectorio\u001b[0m\u001b[1;33m,\u001b[0m \u001b[0mtest_c\u001b[0m\u001b[1;33m[\u001b[0m\u001b[1;36m1\u001b[0m\u001b[1;33m]\u001b[0m\u001b[1;33m)\u001b[0m\u001b[1;33m\u001b[0m\u001b[0m\n\u001b[0m",
            "\u001b[1;31mIndexError\u001b[0m: list index out of range"
          ]
        }
      ],
      "source": [
        "evaluacion_roseta_sin_fijar(directorio, test_c[1])"
      ]
    },
    {
      "attachments": {},
      "cell_type": "markdown",
      "metadata": {
        "id": "ClIYJYghNgd7"
      },
      "source": [
        "### Funciones para evaluar la instalación de fibra"
      ]
    },
    {
      "cell_type": "code",
      "execution_count": null,
      "metadata": {
        "id": "I63StDndNgd7"
      },
      "outputs": [],
      "source": [
        "def evaluacion_roseta_optica_fija(directorio,file, confianza = '0.7'):\n",
        "    \"\"\" Función que llama al modelo de IBM Visual Recognition para evaluar a la ROSETA OPTICA FIJA.\n",
        "    Los parametros que acepta son:\n",
        "    directorio(string): Nombre del directorio donde están las imágenes segmentadas.\n",
        "    file(string): Nombre de la imagen segmentada que se analizará.\n",
        "    confianza(string): Valor de confianza umbral para el modelo de IBM Visual Recognition. Por default tiene de una confianza de 0.7.\n",
        "    \n",
        "    Regresa: un string con la clasificación de la imagen, respuesta del modelo en Visual Recognition.\"\"\"\n",
        "    \n",
        "    with open(file, 'rb') as images_file:\n",
        "        clases = visual_recognition.classify(images_file,\n",
        "                                             threshold = confianza,\n",
        "                                             classifier_ids = 'DevxRosetaxFibraxEtiqueta_1786824475'\n",
        "                                            ).get_result()\n",
        "        \n",
        "    top_class = clases['images'][0]['classifiers'][0]['classes'][0]['class'].upper()\n",
        "    \n",
        "    return top_class\n",
        "    \n",
        "def evaluacion_roseta_optica_etiqueta(directorio, file, confianza = '0.7'):\n",
        "    \"\"\" Función que llama al modelo de IBM Visual Recognition para evaluar la presencia de ETIQUETA en la ROSETA OPTICA.\n",
        "    Los parametros que acepta son:\n",
        "    directorio(string): Nombre del directorio donde están las imágenes segmentadas.\n",
        "    file(string): Nombre de la imagen segmentada que se analizará.\n",
        "    confianza(string): Valor de confianza umbral para el modelo de IBM Visual Recognition. Por default tiene de una confianza de 0.7.\n",
        "    \n",
        "    Regresa: un string con la clasificación de la imagen, respuesta del modelo en Visual Recognition.\"\"\"\n",
        "    \n",
        "    with open(file, 'rb') as images_file:\n",
        "        clases = visual_recognition.classify(images_file,\n",
        "                                             threshold = confianza,\n",
        "                                             classifier_ids = 'DevxRosetaxFibraxEtiqueta_1786824475'\n",
        "                                            ).get_result()\n",
        "    \n",
        "    top_class = clases['images'][0]['classifiers'][0]['classes'][0]['class'].upper()\n",
        "        \n",
        "    return top_class\n",
        "    \n",
        "def evaluacion_roseta_alreves(directorio,file, confianza = '0.7'):\n",
        "    \"\"\" Función que llama al modelo de IBM Visual Recognition para evaluar que la ROSETA OPTICA NO ESTÁ AL REVÉS.\n",
        "    Los parametros que acepta son:\n",
        "    directorio(string): Nombre del directorio donde están las imágenes segmentadas.\n",
        "    file(string): Nombre de la imagen segmentada que se analizará.\n",
        "    confianza(string): Valor de confianza umbral para el modelo de IBM Visual Recognition. Por default tiene de una confianza de 0.7.\n",
        "    \n",
        "    Regresa: un string con la clasificación de la imagen, respuesta del modelo en Visual Recognition.\"\"\"\n",
        "    \n",
        "    with open(file, 'rb') as images_file:\n",
        "        clases = visual_recognition.classify(images_file,\n",
        "                                             threshold = confianza,\n",
        "                                             classifier_ids = 'DevxRosetaxFibraxEtiqueta_1786824475'\n",
        "                                            ).get_result()\n",
        "        \n",
        "    top_class = clases['images'][0]['classifiers'][0]['classes'][0]['class'].upper()\n",
        "    \n",
        "    return top_class\n",
        "    \n",
        "def evaluacion_roseta_optica_jumper(directorio, file, confianza = '0.7'):\n",
        "    \"\"\" Función que llama al modelo de IBM Visual Recognition para evaluar al JUMPER ÓPTICO.\n",
        "    Los parametros que acepta son:\n",
        "    directorio(string): Nombre del directorio donde están las imágenes segmentadas.\n",
        "    file(string): Nombre de la imagen segmentada que se analizará.\n",
        "    confianza(string): Valor de confianza umbral para el modelo de IBM Visual Recognition. Por default tiene de una confianza de 0.7.\n",
        "    \n",
        "    Regresa: un string con la clasificación de la imagen, respuesta del modelo en Visual Recognition.\"\"\"\n",
        "\n",
        "    with open(file, 'rb') as images_file:\n",
        "        clases = visual_recognition.classify(images_file,\n",
        "                                             threshold = confianza,\n",
        "                                             classifier_ids='DevxRosetaxFibraxEtiqueta_1786824475'\n",
        "                                            ).get_result()\n",
        "    \n",
        "    top_class = clases['images'][0]['classifiers'][0]['classes'][0]['class'].upper()\n",
        "    \n",
        "    return top_class"
      ]
    },
    {
      "attachments": {},
      "cell_type": "markdown",
      "metadata": {
        "id": "fHGc12uzNgd9"
      },
      "source": [
        "##### Test function"
      ]
    },
    {
      "cell_type": "code",
      "execution_count": null,
      "metadata": {
        "id": "tS77UTm6Ngd-",
        "outputId": "e7338c58-d51f-4baa-9a0b-8b1908950592"
      },
      "outputs": [
        {
          "data": {
            "text/plain": [
              "'CON_ETIQUETA'"
            ]
          },
          "execution_count": 176,
          "metadata": {},
          "output_type": "execute_result"
        }
      ],
      "source": [
        "evaluacion_roseta_optica_etiqueta(directorio, '3701260-1259_1-copia.jpg')"
      ]
    },
    {
      "attachments": {},
      "cell_type": "markdown",
      "metadata": {
        "id": "fj-V8zICNgd_"
      },
      "source": [
        "###### Definir como guardar los resultados de Visual Recognition por enviarselo a todos a la función de Ponderación"
      ]
    },
    {
      "cell_type": "code",
      "execution_count": null,
      "metadata": {
        "id": "r0w4YvywNgd_"
      },
      "outputs": [],
      "source": [
        "dict"
      ]
    },
    {
      "attachments": {},
      "cell_type": "markdown",
      "metadata": {
        "id": "esZ92JUbNgeA"
      },
      "source": [
        "### Funciones de ponderación según la tecnología"
      ]
    },
    {
      "cell_type": "code",
      "execution_count": null,
      "metadata": {
        "id": "OhCBEtQhNgeB"
      },
      "outputs": [],
      "source": [
        "def ponderacion_cobre(dit_instalado = True, vsi = False):\n",
        "    \"\"\" Función que pondera las respuestas de los modelos de IBM Visual Recognition, para instalaciones de Cobre.\n",
        "    Los parámetros que acepta son:\n",
        "    dit_instalado (booleano): variable que nos indica si durante el aprovisionamiento se instaló Dit (True) o no (False). El por default es True\n",
        "    vsi (booleano): variable que nos indica si se instaló voz por VSI (True)o no (False). El valor default es False.\n",
        "    \n",
        "    Respuesta: Un valor númerico (float) que nos índica el porcentaje de la instalación bien realizada.\"\"\"\n",
        "    \n",
        "    ponderacion = 0.0\n",
        "\n",
        "    if dit_instalado:\n",
        "        if 'DIT' in items_install_cobre:\n",
        "            ponderacion += 30.0\n",
        "        if classes_dit_abierto == DIT_OK:\n",
        "            ponderacion += 30.0\n",
        "        if classes_dit_fijo == DIT_OK:\n",
        "            ponderacion += 15.0\n",
        "        if classes_roseta_fija == ROSETA_OK:\n",
        "            ponderacion += 15.0\n",
        "        if not 'MICROFILTRO' in items_install_cobre:\n",
        "            ponderacion += 10.0\n",
        "    else:\n",
        "        if vsi == False:\n",
        "            if roseta_marfil == ROSETA_OK:\n",
        "                ponderacion += 37.5\n",
        "            if roseta_gris == ROSETA_OK:\n",
        "                ponderacion += 37.5\n",
        "            if 'MICROFILTRO' in items_install_cobre:\n",
        "                ponderacion += 25.0\n",
        "        else:\n",
        "            if roseta_gris == ROSETA_OK:\n",
        "                ponderacion += 60.0\n",
        "            if 'MICROFILTRO' in items_install_cobre:\n",
        "                ponderacion += 40.0\n",
        "            \n",
        "    return ponderacion\n",
        "\n",
        "def ponderacion_fibra(test = False):\n",
        "    \"\"\" Función que pondera las respuestas de los modelos de IBM Visual Recognition, para instalaciones de Cobre.\n",
        "    Los parámetros que acepta son:\n",
        "    dit_instalado (booleano): variable que nos indica si durante el aprovisionamiento se instaló Dit (True) o no (False). El por default es True\n",
        "    vsi (booleano): variable que nos indica si se instaló voz por VSI (True)o no (False). El valor default es False.\n",
        "    \n",
        "    Respuesta: Un valor númerico (float) que nos índica el porcentaje de la instalación bien realizada.\"\"\"\n",
        "    \n",
        "    ponderacion = 0.0\n",
        "\n",
        "    if 'ROSETA_OPTICA' in items_install_cobre:\n",
        "        ponderacion += 42.5\n",
        "    if classes_roseta_optica_fija == ROSETA_OK:\n",
        "        ponderacion += 42.5\n",
        "    if classes_roseta_optica_etiqueta == CON_ETIQUETA:\n",
        "        ponderacion += 15.0\n",
        "        \n",
        "    return ponderacion"
      ]
    },
    {
      "cell_type": "code",
      "execution_count": null,
      "metadata": {
        "id": "CkM6nzk6NgeC",
        "outputId": "56403cc3-698d-4db0-9703-884bff119c92"
      },
      "outputs": [
        {
          "ename": "NameError",
          "evalue": "name 'items_install_cobre' is not defined",
          "output_type": "error",
          "traceback": [
            "\u001b[1;31m---------------------------------------------------------------------------\u001b[0m",
            "\u001b[1;31mNameError\u001b[0m                                 Traceback (most recent call last)",
            "\u001b[1;32m<ipython-input-5-b0f05ef9cff0>\u001b[0m in \u001b[0;36m<module>\u001b[1;34m()\u001b[0m\n\u001b[1;32m----> 1\u001b[1;33m \u001b[0mponderacion_fibra\u001b[0m\u001b[1;33m(\u001b[0m\u001b[0mtest\u001b[0m \u001b[1;33m=\u001b[0m \u001b[1;32mTrue\u001b[0m\u001b[1;33m)\u001b[0m\u001b[1;33m\u001b[0m\u001b[0m\n\u001b[0m",
            "\u001b[1;32m<ipython-input-4-98ac3de24352>\u001b[0m in \u001b[0;36mponderacion_fibra\u001b[1;34m(test)\u001b[0m\n\u001b[0;32m     33\u001b[0m     \u001b[1;32mif\u001b[0m \u001b[0mtest\u001b[0m\u001b[1;33m:\u001b[0m\u001b[1;33m\u001b[0m\u001b[0m\n\u001b[0;32m     34\u001b[0m         \u001b[0mponderación\u001b[0m \u001b[1;33m=\u001b[0m \u001b[1;36m85.0\u001b[0m\u001b[1;33m\u001b[0m\u001b[0m\n\u001b[1;32m---> 35\u001b[1;33m     \u001b[1;32mif\u001b[0m \u001b[1;34m'ROSETA_OPTICA'\u001b[0m \u001b[1;32min\u001b[0m \u001b[0mitems_install_cobre\u001b[0m\u001b[1;33m:\u001b[0m\u001b[1;33m\u001b[0m\u001b[0m\n\u001b[0m\u001b[0;32m     36\u001b[0m         \u001b[0mponderacion\u001b[0m \u001b[1;33m+=\u001b[0m \u001b[1;36m42.5\u001b[0m\u001b[1;33m\u001b[0m\u001b[0m\n\u001b[0;32m     37\u001b[0m     \u001b[1;32mif\u001b[0m \u001b[0mclasses_roseta_optica_fija\u001b[0m \u001b[1;33m==\u001b[0m \u001b[0mROSETA_OK\u001b[0m\u001b[1;33m:\u001b[0m\u001b[1;33m\u001b[0m\u001b[0m\n",
            "\u001b[1;31mNameError\u001b[0m: name 'items_install_cobre' is not defined"
          ]
        }
      ],
      "source": [
        "ponderacion_fibra(test = True)"
      ]
    },
    {
      "cell_type": "code",
      "execution_count": null,
      "metadata": {
        "id": "mpZr0lqcNgeD"
      },
      "outputs": [],
      "source": [
        "ponderacion = 50"
      ]
    },
    {
      "cell_type": "code",
      "execution_count": null,
      "metadata": {
        "id": "FfYWHBmrNgeE",
        "outputId": "dbe20814-f995-4729-e353-8ae6cdc1484f"
      },
      "outputs": [
        {
          "name": "stdout",
          "output_type": "stream",
          "text": [
            "El porcentaje en la instalación es de 75%\n"
          ]
        }
      ],
      "source": [
        "print('El porcentaje en la instalación es de {}%'.format(ponderacion_resultados(tecnologia='test')))"
      ]
    },
    {
      "cell_type": "code",
      "execution_count": null,
      "metadata": {
        "id": "XrFr2jXdNgeF"
      },
      "outputs": [],
      "source": [
        "def respuesta_applex():\n",
        "    \"\"\"Función dependiendo de la ponderación, nos permite enviar una respuesta a Applex para que la visualice el técnico.\n",
        "    Función pendiente de construir dependiendo de la experiencia definida por el equipo de Applex.\"\"\"\n",
        "    \n",
        "    return {\"respuesta\": \"Instalación Éxitosa.\"}"
      ]
    },
    {
      "cell_type": "code",
      "execution_count": null,
      "metadata": {
        "id": "AV5bzbSUNgeG",
        "outputId": "a67a05f1-2568-4af0-b20d-85dbecbc2747"
      },
      "outputs": [
        {
          "data": {
            "text/plain": [
              "{'respuesta': 'Instalación Éxitosa.'}"
            ]
          },
          "execution_count": 8,
          "metadata": {},
          "output_type": "execute_result"
        }
      ],
      "source": [
        "respuesta_applex()"
      ]
    },
    {
      "cell_type": "code",
      "execution_count": null,
      "metadata": {
        "id": "BejlXL4lNgeH"
      },
      "outputs": [],
      "source": []
    }
  ],
  "metadata": {
    "colab": {
      "provenance": []
    },
    "kernelspec": {
      "display_name": "Python 3",
      "language": "python",
      "name": "python3"
    },
    "language_info": {
      "codemirror_mode": {
        "name": "ipython",
        "version": 3
      },
      "file_extension": ".py",
      "mimetype": "text/x-python",
      "name": "python",
      "nbconvert_exporter": "python",
      "pygments_lexer": "ipython3",
      "version": "3.10.11"
    }
  },
  "nbformat": 4,
  "nbformat_minor": 0
}
